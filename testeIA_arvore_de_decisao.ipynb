{
  "cells": [
    {
      "cell_type": "code",
      "execution_count": 3,
      "metadata": {
        "id": "FPxF27Pz7raX"
      },
      "outputs": [],
      "source": [
        "import pandas as pd\n",
        "import matplotlib.pyplot as plt\n",
        "#from google.colab import files\n",
        "from sklearn.tree import DecisionTreeRegressor\n",
        "from sklearn.metrics import r2_score\n",
        "from sklearn.model_selection import train_test_split\n",
        "from sklearn.metrics import mean_absolute_error, mean_absolute_percentage_error\n",
        "from sklearn.tree import DecisionTreeClassifier\n",
        "from sklearn.metrics import accuracy_score\n",
        "from sklearn.metrics import confusion_matrix\n",
        "from sklearn.tree import export_graphviz\n",
        "import graphviz"
      ]
    },
    {
      "cell_type": "code",
      "execution_count": 4,
      "metadata": {
        "id": "nZjENFl78gez"
      },
      "outputs": [],
      "source": [
        "#arquivo=files.upload()\n",
        "cidade=pd.read_csv(\"brasilrev2022.csv\")"
      ]
    },
    {
      "cell_type": "code",
      "execution_count": 5,
      "metadata": {
        "id": "ErWW25_km2VI"
      },
      "outputs": [
        {
          "data": {
            "text/plain": [
              "['CITY',\n",
              " 'STATE',\n",
              " 'CAPITAL',\n",
              " 'IBGE_RES_POP',\n",
              " 'IBGE_RES_POP_BRAS',\n",
              " 'IBGE_RES_POP_ESTR',\n",
              " 'IBGE_DU',\n",
              " 'IBGE_DU_URBAN',\n",
              " 'IBGE_DU_RURAL',\n",
              " 'IBGE_POP',\n",
              " 'IBGE_1',\n",
              " 'IBGE_1-4',\n",
              " 'IBGE_5-9',\n",
              " 'IBGE_10-14',\n",
              " 'IBGE_15-59',\n",
              " 'IBGE_60+',\n",
              " 'IBGE_PLANTED_AREA',\n",
              " 'IBGE_CROP_PRODUCTION_$',\n",
              " 'IDHM Ranking 2010',\n",
              " 'IDHM',\n",
              " 'IDHM_Renda',\n",
              " 'IDHM_Longevidade',\n",
              " 'IDHM_Educacao',\n",
              " 'LONG',\n",
              " 'LAT',\n",
              " 'ALT',\n",
              " 'PAY_TV',\n",
              " 'FIXED_PHONES',\n",
              " 'AREA',\n",
              " 'REGIAO_TUR',\n",
              " 'CATEGORIA_TUR',\n",
              " 'ESTIMATED_POP',\n",
              " 'RURAL_URBAN',\n",
              " 'GVA_AGROPEC',\n",
              " 'GVA_INDUSTRY',\n",
              " 'GVA_SERVICES',\n",
              " 'GVA_PUBLIC',\n",
              " 'GVA_TOTAL',\n",
              " 'TAXES',\n",
              " 'GDP',\n",
              " 'POP_GDP',\n",
              " 'GDP_CAPITA',\n",
              " 'GVA_MAIN',\n",
              " 'MUN_EXPENDIT',\n",
              " 'COMP_TOT',\n",
              " 'COMP_A',\n",
              " 'COMP_B',\n",
              " 'COMP_C',\n",
              " 'COMP_D',\n",
              " 'COMP_E',\n",
              " 'COMP_F',\n",
              " 'COMP_G',\n",
              " 'COMP_H',\n",
              " 'COMP_I',\n",
              " 'COMP_J',\n",
              " 'COMP_K',\n",
              " 'COMP_L',\n",
              " 'COMP_M',\n",
              " 'COMP_N',\n",
              " 'COMP_O',\n",
              " 'COMP_P',\n",
              " 'COMP_Q',\n",
              " 'COMP_R',\n",
              " 'COMP_S',\n",
              " 'COMP_T',\n",
              " 'COMP_U',\n",
              " 'HOTELS',\n",
              " 'BEDS',\n",
              " 'Pr_Agencies',\n",
              " 'Pu_Agencies',\n",
              " 'Pr_Bank',\n",
              " 'Pu_Bank',\n",
              " 'Pr_Assets',\n",
              " 'Pu_Assets',\n",
              " 'Cars',\n",
              " 'Motorcycles',\n",
              " 'Wheeled_tractor',\n",
              " 'UBER',\n",
              " 'MAC',\n",
              " 'WAL-MART',\n",
              " 'POST_OFFICES']"
            ]
          },
          "execution_count": 5,
          "metadata": {},
          "output_type": "execute_result"
        }
      ],
      "source": [
        "cidade.columns.tolist()"
      ]
    },
    {
      "cell_type": "code",
      "execution_count": 6,
      "metadata": {
        "id": "A87PEjNmSuQW"
      },
      "outputs": [
        {
          "name": "stdout",
          "output_type": "stream",
          "text": [
            "O menor IDH padronizado é 0.0 e o maior é 1.0\n",
            "Coeficiente de determinação (R²): 0.9422222484069019\n"
          ]
        },
        {
          "data": {
            "text/html": [
              "<div>\n",
              "<style scoped>\n",
              "    .dataframe tbody tr th:only-of-type {\n",
              "        vertical-align: middle;\n",
              "    }\n",
              "\n",
              "    .dataframe tbody tr th {\n",
              "        vertical-align: top;\n",
              "    }\n",
              "\n",
              "    .dataframe thead th {\n",
              "        text-align: right;\n",
              "    }\n",
              "</style>\n",
              "<table border=\"1\" class=\"dataframe\">\n",
              "  <thead>\n",
              "    <tr style=\"text-align: right;\">\n",
              "      <th></th>\n",
              "      <th>CITY</th>\n",
              "      <th>IDHM_Padronizado</th>\n",
              "    </tr>\n",
              "  </thead>\n",
              "  <tbody>\n",
              "    <tr>\n",
              "      <th>0</th>\n",
              "      <td>Abadia De Goiás</td>\n",
              "      <td>0.653153</td>\n",
              "    </tr>\n",
              "    <tr>\n",
              "      <th>1</th>\n",
              "      <td>Abadia Dos Dourados</td>\n",
              "      <td>0.610360</td>\n",
              "    </tr>\n",
              "    <tr>\n",
              "      <th>2</th>\n",
              "      <td>Abadiânia</td>\n",
              "      <td>0.610360</td>\n",
              "    </tr>\n",
              "    <tr>\n",
              "      <th>3</th>\n",
              "      <td>Abaetetuba</td>\n",
              "      <td>0.472973</td>\n",
              "    </tr>\n",
              "    <tr>\n",
              "      <th>4</th>\n",
              "      <td>Abaeté</td>\n",
              "      <td>0.630631</td>\n",
              "    </tr>\n",
              "    <tr>\n",
              "      <th>5</th>\n",
              "      <td>Abaiara</td>\n",
              "      <td>0.472973</td>\n",
              "    </tr>\n",
              "    <tr>\n",
              "      <th>6</th>\n",
              "      <td>Abaré</td>\n",
              "      <td>0.353604</td>\n",
              "    </tr>\n",
              "    <tr>\n",
              "      <th>7</th>\n",
              "      <td>Abatiá</td>\n",
              "      <td>0.605856</td>\n",
              "    </tr>\n",
              "    <tr>\n",
              "      <th>8</th>\n",
              "      <td>Abaíra</td>\n",
              "      <td>0.416667</td>\n",
              "    </tr>\n",
              "    <tr>\n",
              "      <th>9</th>\n",
              "      <td>Abdon Batista</td>\n",
              "      <td>0.621622</td>\n",
              "    </tr>\n",
              "  </tbody>\n",
              "</table>\n",
              "</div>"
            ],
            "text/plain": [
              "                  CITY  IDHM_Padronizado\n",
              "0      Abadia De Goiás          0.653153\n",
              "1  Abadia Dos Dourados          0.610360\n",
              "2            Abadiânia          0.610360\n",
              "3           Abaetetuba          0.472973\n",
              "4               Abaeté          0.630631\n",
              "5              Abaiara          0.472973\n",
              "6                Abaré          0.353604\n",
              "7               Abatiá          0.605856\n",
              "8               Abaíra          0.416667\n",
              "9        Abdon Batista          0.621622"
            ]
          },
          "execution_count": 6,
          "metadata": {},
          "output_type": "execute_result"
        }
      ],
      "source": [
        "#modelo de regressão, não será usado (manter até data da entrega final)\n",
        "\n",
        "#valores padronizados para IDH baixo: de 0 a 0,314, médio: de 0,315 a 0,818, alto: de 0,819 a 1\n",
        "\n",
        "\n",
        "cidade.drop(index=cidade[cidade['IDHM'] ==0 ].index,inplace=True)\n",
        "\n",
        "minimo=cidade['IDHM'].min()\n",
        "maximo=cidade['IDHM'].max()\n",
        "maximo,minimo\n",
        "\n",
        "#o menor idh eh 0.418 e o maior eh 0.862\n",
        "\n",
        "\n",
        "\n",
        "def padronizar_idh (valorAtual, minimo, maximo):\n",
        "  return (valorAtual - minimo) / (maximo - minimo)\n",
        "\n",
        "funcao_de_padronizar=cidade['IDHM_Padronizado']=cidade['IDHM'].apply(lambda x: padronizar_idh(x, minimo, maximo))\n",
        "\n",
        "muito_baixo=0.499 #aqui é o valor maximo da categoria, acima disso ela muda\n",
        "baixo=0.599\n",
        "medio=6.999\n",
        "alto=0.799\n",
        "muito_alto=1\n",
        "\n",
        "\n",
        "\n",
        "cidade[['CITY','STATE','IDHM_Padronizado']].head(30)\n",
        "minimo_padronizado=cidade['IDHM_Padronizado'].min()\n",
        "maximo_padronizado=cidade['IDHM_Padronizado'].max()\n",
        "print(\"O menor IDH padronizado é {} e o maior é {}\".format(minimo_padronizado,maximo_padronizado))\n",
        "\n",
        "\n",
        "X=cidade[['GDP_CAPITA','IDHM_Educacao','COMP_Q']].values\n",
        "y=cidade[['IDHM']].values\n",
        "X_train, X_test, y_train, y_test = train_test_split(X, y, test_size=0.3, random_state=42)\n",
        "modelo = DecisionTreeRegressor(max_depth=7)\n",
        "modelo.fit(X_train, y_train)\n",
        "y_pred = modelo.predict(X_test)\n",
        "r2 = r2_score(y_test, y_pred)\n",
        "print('Coeficiente de determinação (R²):', r2)\n",
        "\n",
        "cidade[['CITY','IDHM_Padronizado']].head(10)"
      ]
    },
    {
      "cell_type": "code",
      "execution_count": 7,
      "metadata": {
        "id": "UA2AhNiBSumv"
      },
      "outputs": [
        {
          "name": "stdout",
          "output_type": "stream",
          "text": [
            "Acurácia: 0.9539198084979055\n",
            "[[  99   36    0]\n",
            " [  18 1471   10]\n",
            " [   0   13   24]]\n"
          ]
        }
      ],
      "source": [
        "# aqui define classes para ser usadas de parametro\n",
        "classes = {\n",
        "    'baixo': 0,\n",
        "    'médio': 1,\n",
        "    'alto': 2\n",
        "}\n",
        "\n",
        "# 0.315 a 0.818, alto: de 0.819 a 1\n",
        "\n",
        "# aqui ele é utilizado um controle de fluxo para definir qual valor é retornado na classe, para ver se o idh vai ser médio, alto etc\n",
        "cidade['IDHM_Classes'] = cidade['IDHM_Padronizado'].apply(lambda x: 'baixo' if x < 0.315 else 'alto' if x > 0.819 else 'médio')\n",
        "cidade['IDHM_Classes'] = cidade['IDHM_Classes'].map(classes)\n",
        "\n",
        "# Aqui eh pra separar os dados em treino e teste\n",
        "X = cidade[['GDP_CAPITA','IDHM_Educacao','COMP_Q','COMP_O','COMP_E','IDHM_Longevidade']].values\n",
        "y = cidade[['IDHM_Classes']].values.ravel()\n",
        "X_train, X_test, y_train, y_test = train_test_split(X, y, test_size=0.3, random_state=42) #tamanho do teste ta em 30%\n",
        "\n",
        "# aqui controi a arvore de devisao e a profundidade dela\n",
        "modelo = DecisionTreeClassifier(max_depth=3)\n",
        "modelo.fit(X_train, y_train)\n",
        "y_pred = modelo.predict(X_test)\n",
        "\n",
        "# verifica a precisao do modelo\n",
        "acc = accuracy_score(y_test, y_pred)\n",
        "print('Acurácia:', acc)\n",
        "\n",
        "conf_matrix = confusion_matrix(y_test, y_pred)\n",
        "print(conf_matrix)\n",
        "\n",
        "# aqui visualiza graficamente a arvore\n",
        "dot_data = export_graphviz(modelo, out_file=None,\n",
        "                           feature_names=['GDP_CAPITA','IDHM_Educacao','COMP_Q','COMP_O','COMP_E','IDHM_Longevidade'],\n",
        "                           class_names=['Baixo', 'Médio', 'Alto'],\n",
        "                           filled=True, rounded=True, special_characters=True)\n"
      ]
    },
    {
      "cell_type": "code",
      "execution_count": 8,
      "metadata": {
        "id": "9ahIMsXJHknz"
      },
      "outputs": [
        {
          "name": "stdout",
          "output_type": "stream",
          "text": [
            "Relatório sobre a qualidade:\n",
            "\n",
            "              precision    recall  f1-score   support\n",
            "\n",
            "       Baixo       0.85      0.73      0.79       135\n",
            "       Médio       0.97      0.98      0.97      1499\n",
            "        Alto       0.71      0.65      0.68        37\n",
            "\n",
            "    accuracy                           0.95      1671\n",
            "   macro avg       0.84      0.79      0.81      1671\n",
            "weighted avg       0.95      0.95      0.95      1671\n",
            "\n"
          ]
        }
      ],
      "source": [
        "import sklearn.metrics as metrics\n",
        "print(\"Relatório sobre a qualidade:\\n\")\n",
        "print(metrics.classification_report(y_test, y_pred, target_names=['Baixo', 'Médio', 'Alto']))"
      ]
    },
    {
      "cell_type": "code",
      "execution_count": null,
      "metadata": {
        "id": "4KWua1c_Supe"
      },
      "outputs": [],
      "source": [
        "from sklearn import tree\n",
        "import graphviz\n",
        "dot_data = tree.export_graphviz(modelo, out_file=None)\n",
        "graph = graphviz.Source(dot_data)\n",
        "graph.render(\"cidade\")\n",
        "dot_data = tree.export_graphviz(modelo, out_file=None,\n",
        "# feature_names=cidade.feature_names,\n",
        "# class_names=cidade.target_names,\n",
        "filled=True, rounded=True,\n",
        "special_characters=True)\n",
        "graph = graphviz.Source(dot_data, format=\"png\")\n",
        "graph"
      ]
    },
    {
      "cell_type": "code",
      "execution_count": 10,
      "metadata": {
        "id": "wwwneeseImav"
      },
      "outputs": [
        {
          "name": "stdout",
          "output_type": "stream",
          "text": [
            "A cidade 'IGARATÁ' que você selecionou tem IDH médio.\n"
          ]
        }
      ],
      "source": [
        "# solicita o nome da cidade\n",
        "nome_cidade = str(input(\"Digite o nome da cidade: \"))\n",
        "\n",
        "# Filtrar o DataFrame para obter as informações da cidade especificada pelo usuário\n",
        "cidade_selecionada = cidade.loc[cidade['CITY'].str.upper() == nome_cidade.upper()] # ta essa cara e resposavel por encontrar a cidade nas colunas tem que da toUpper no nome sempre ?\n",
        "\n",
        "coluna_cidade=cidade[['CITY']] # sim entendi blz  a isso aqui da para pegar as colunas da cidade\n",
        "\n",
        "cidade['CITY']=cidade['CITY'].str.upper()\n",
        "# verifica a classe de IDH atribuída à cidade selecionada # @Lucas ta online ???? nao entendi ? se os modelos entao funcionando para receber parametros\n",
        "if cidade_selecionada.empty:\n",
        "    print(\"Cidade não encontrada.\")\n",
        "else:\n",
        "    # Verifica a classe do IDH de acordo com a cidade filtrada # kkk verdade eu lembrei essa aqui ta adaptado para o modelo de arvore sim para o comite vai ter que mudar um pouqinho blz, so adaptar isso aqui la e passar a cidade e as colunas para os tres modelos votarem\n",
        "    if cidade_selecionada['IDHM_Classes'].iloc[0] == 0:\n",
        "        print(\"A cidade '{}' que você selecionou tem IDH baixo.\".format(nome_cidade.upper())) # sim\n",
        "    elif cidade_selecionada['IDHM_Classes'].iloc[0] == 1:\n",
        "        print(\"A cidade '{}' que você selecionou tem IDH médio.\".format(nome_cidade.upper()))\n",
        "    elif cidade_selecionada['IDHM_Classes'].iloc[0] == 2:\n",
        "        print(\"A cidade '{}' que você selecionou tem IDH alto.\".format(nome_cidade.upper()))"
      ]
    }
  ],
  "metadata": {
    "colab": {
      "provenance": []
    },
    "kernelspec": {
      "display_name": "Python 3",
      "name": "python3"
    },
    "language_info": {
      "codemirror_mode": {
        "name": "ipython",
        "version": 3
      },
      "file_extension": ".py",
      "mimetype": "text/x-python",
      "name": "python",
      "nbconvert_exporter": "python",
      "pygments_lexer": "ipython3",
      "version": "3.11.4"
    }
  },
  "nbformat": 4,
  "nbformat_minor": 0
}
