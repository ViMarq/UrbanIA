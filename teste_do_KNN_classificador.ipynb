{
  "cells": [
    {
      "cell_type": "code",
      "execution_count": 2,
      "metadata": {
        "id": "pxUpCqO8Pm4q"
      },
      "outputs": [],
      "source": [
        "import pandas as pd\n",
        "from sklearn.neighbors import KNeighborsClassifier\n",
        "from sklearn.model_selection import train_test_split\n",
        "from sklearn.metrics import accuracy_score, confusion_matrix\n",
        "import numpy as np\n",
        "#from google.colab import files"
      ]
    },
    {
      "cell_type": "code",
      "execution_count": 3,
      "metadata": {
        "colab": {
          "base_uri": "https://localhost:8080/",
          "height": 73
        },
        "id": "m9uHYmNCP5dG",
        "outputId": "adb87eeb-d6ae-4c80-d66f-1ef7dfe37b60"
      },
      "outputs": [],
      "source": [
        "#arquivo=files.upload()\n",
        "cidade=pd.read_csv('brasilrev2022.CSV')"
      ]
    },
    {
      "cell_type": "code",
      "execution_count": 4,
      "metadata": {
        "colab": {
          "base_uri": "https://localhost:8080/"
        },
        "id": "xPSqSv6pP7gJ",
        "outputId": "8cdf675e-2e2e-4f86-a73f-26800f6de121"
      },
      "outputs": [
        {
          "name": "stdout",
          "output_type": "stream",
          "text": [
            "Acurácia: 0.9030520646319569\n"
          ]
        }
      ],
      "source": [
        "# Pré-processamento dos dados\n",
        "# Remove as linhas em que o valor de IDHM é igual a 0\n",
        "cidade.drop(index=cidade[cidade['IDHM'] == 0].index, inplace=True)\n",
        "\n",
        "# Calcula o valor mínimo e máximo da coluna IDHM\n",
        "minimo = cidade['IDHM'].min()\n",
        "maximo = cidade['IDHM'].max()\n",
        "\n",
        "# Função para padronizar o valor do IDHM entre 0 e 1\n",
        "def padronizar_idh(valorAtual, minimo, maximo):\n",
        "    return (valorAtual - minimo) / (maximo - minimo)\n",
        "\n",
        "# Aplica a função de padronização aos valores da coluna IDHM e armazena o resultado em uma nova coluna \"IDHM_Padronizado\"\n",
        "cidade['IDHM_Padronizado'] = cidade['IDHM'].apply(lambda x: padronizar_idh(x, minimo, maximo))\n",
        "\n",
        "# Definição das classes\n",
        "classes = {\n",
        "    'baixo': 0,\n",
        "    'médio': 1,\n",
        "    'alto': 2\n",
        "}\n",
        "\n",
        "# Limites para classificação das classes\n",
        "limite_baixo = 0.315\n",
        "limite_medio = 0.819\n",
        "\n",
        "# Criação das variáveis de entrada (X) e saída (y)\n",
        "X = cidade[['GDP_CAPITA', 'IDHM_Educacao', 'COMP_Q', 'COMP_O', 'COMP_E', 'IDHM_Longevidade']].values\n",
        "y = []\n",
        "\n",
        "# Atribuição das classes com base nos limites estabelecidos\n",
        "for i in cidade['IDHM_Padronizado']:\n",
        "    if i < limite_baixo:\n",
        "        y.append(classes['baixo'])\n",
        "    elif i > limite_medio:\n",
        "        y.append(classes['alto'])\n",
        "    else:\n",
        "        y.append(classes['médio'])\n",
        "y = np.array(y)\n",
        "\n",
        "# Dividir o conjunto de dados em treino e teste\n",
        "X_train, X_test, y_train, y_test = train_test_split(X, y, test_size=0.3, random_state=97)\n",
        "\n",
        "# Treinar o modelo KNN de classificação\n",
        "modelo = KNeighborsClassifier()\n",
        "modelo.fit(X_train, y_train)\n",
        "\n",
        "# Testar o modelo\n",
        "y_pred = modelo.predict(X_test)\n",
        "acc = accuracy_score(y_test, y_pred)\n",
        "print('Acurácia:', acc)"
      ]
    }
  ],
  "metadata": {
    "colab": {
      "provenance": []
    },
    "kernelspec": {
      "display_name": "Python 3",
      "name": "python3"
    },
    "language_info": {
      "codemirror_mode": {
        "name": "ipython",
        "version": 3
      },
      "file_extension": ".py",
      "mimetype": "text/x-python",
      "name": "python",
      "nbconvert_exporter": "python",
      "pygments_lexer": "ipython3",
      "version": "3.11.4"
    }
  },
  "nbformat": 4,
  "nbformat_minor": 0
}
