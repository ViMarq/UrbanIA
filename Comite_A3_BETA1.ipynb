{
  "cells": [
    {
      "cell_type": "code",
      "execution_count": 1,
      "metadata": {
        "id": "f4Ru4coTL5Yg"
      },
      "outputs": [],
      "source": [
        "#imports para o comite\n",
        "import pandas as pd\n",
        "#from google.colab import files"
      ]
    },
    {
      "cell_type": "code",
      "execution_count": 2,
      "metadata": {
        "colab": {
          "base_uri": "https://localhost:8080/",
          "height": 73
        },
        "id": "1RKXMsmLCMXO",
        "outputId": "25559b16-5a71-43d9-b910-9684603814a6"
      },
      "outputs": [],
      "source": [
        "#carregando a tabela ela sera usada pelo modelos do comite\n",
        "#arquivo=files.upload()\n",
        "cidades_brasileiras = pd.read_csv('brasilrev2022.CSV')"
      ]
    },
    {
      "attachments": {},
      "cell_type": "markdown",
      "metadata": {
        "id": "AIwLlsMLUBFx"
      },
      "source": [
        "#Algoritmo Arvore de Descisão\n",
        "\n"
      ]
    },
    {
      "cell_type": "code",
      "execution_count": 3,
      "metadata": {
        "colab": {
          "base_uri": "https://localhost:8080/"
        },
        "id": "1mgtXmp-CYox",
        "outputId": "b01ba5f8-59e2-4787-86b3-763ffd6e3655"
      },
      "outputs": [
        {
          "name": "stdout",
          "output_type": "stream",
          "text": [
            "Acurácia do modelo: 95.39% \n"
          ]
        }
      ],
      "source": [
        "#modelo de arvore de descisão\n",
        "from sklearn import tree\n",
        "from sklearn.model_selection import train_test_split\n",
        "from sklearn.metrics import mean_absolute_error, mean_absolute_percentage_error\n",
        "from sklearn.tree import DecisionTreeClassifier\n",
        "from sklearn.metrics import accuracy_score\n",
        "\n",
        "#valores padronizados para IDH baixo: de 0 a 0,314, médio: de 0,315 a 0,818, alto: de 0,819 a 1\n",
        "cidades_brasileiras.drop(index=cidades_brasileiras[cidades_brasileiras['IDHM'] ==0 ].index,inplace=True)\n",
        "minimo=cidades_brasileiras['IDHM'].min()\n",
        "maximo=cidades_brasileiras['IDHM'].max()\n",
        "maximo,minimo\n",
        "\n",
        "#O menor idh é 0.418 e o maior é 0.862 de acordo com o nosso Dataset\n",
        "def padronizar_idh (valorAtual, minimo, maximo):\n",
        "  return (valorAtual - minimo) / (maximo - minimo)\n",
        "funcao_de_padronizar=cidades_brasileiras['IDHM_Padronizado']=cidades_brasileiras['IDHM'].apply(lambda x: padronizar_idh(x, minimo, maximo))\n",
        "\n",
        "\n",
        "cidades_brasileiras[['CITY','STATE','IDHM_Padronizado']].head(30)\n",
        "minimo_padronizado=cidades_brasileiras['IDHM_Padronizado'].min()\n",
        "maximo_padronizado=cidades_brasileiras['IDHM_Padronizado'].max()\n",
        "\n",
        "\n",
        "#Aqui define classes para ser usadas de parametro\n",
        "classes = {'baixo': 0,'médio': 1,'alto': 2}\n",
        "\n",
        "# aqui ele é utilizado um controle de fluxo para definir qual valor é retornado na classe, para ver se o idh vai ser médio, alto etc\n",
        "cidades_brasileiras['IDHM_Classes'] = cidades_brasileiras['IDHM_Padronizado'].apply(lambda x: 'baixo' if x < 0.315 else 'alto' if x > 0.819 else 'médio')\n",
        "cidades_brasileiras['IDHM_Classes'] = cidades_brasileiras['IDHM_Classes'].map(classes)\n",
        "\n",
        "# Aqui eh pra separar os dados em treino e teste\n",
        "X = cidades_brasileiras[['GDP_CAPITA','IDHM_Educacao','COMP_Q','COMP_O','COMP_E','IDHM_Longevidade']].values\n",
        "y = cidades_brasileiras[['IDHM_Classes']].values.ravel()\n",
        "X_train, X_test, y_train, y_test = train_test_split(X, y, test_size=0.3, random_state=42) #tamanho do teste ta em 30%\n",
        "\n",
        "# aqui constroi a arvore de devisao e a profundidade dela\n",
        "modeloARV = DecisionTreeClassifier(max_depth=3)\n",
        "modeloARV.fit(X_train, y_train)\n",
        "y_pred = modeloARV.predict(X_test)\n",
        "\n",
        "# verifica a precisao do modelo\n",
        "acc = accuracy_score(y_test, y_pred)\n",
        "print('Acurácia do modelo: {:.2f}% '.format(acc*100))"
      ]
    },
    {
      "attachments": {},
      "cell_type": "markdown",
      "metadata": {
        "id": "tiDSt-HHWM4_"
      },
      "source": [
        "#Algoritmo KNN"
      ]
    },
    {
      "cell_type": "code",
      "execution_count": 4,
      "metadata": {
        "colab": {
          "base_uri": "https://localhost:8080/"
        },
        "id": "UN75oKW7UL-C",
        "outputId": "0b8d0943-25da-4680-f824-e70963df6c02"
      },
      "outputs": [
        {
          "name": "stdout",
          "output_type": "stream",
          "text": [
            "Acurácia: 90.31% \n"
          ]
        }
      ],
      "source": [
        "\n",
        "import pandas as pd\n",
        "from sklearn.neighbors import KNeighborsClassifier\n",
        "from sklearn.model_selection import train_test_split\n",
        "import numpy as np\n",
        "\n",
        "\n",
        "# Remove as linhas em que o valor de IDHM é igual a 0\n",
        "cidades_brasileiras.drop(index=cidades_brasileiras[cidades_brasileiras['IDHM'] == 0].index, inplace=True)\n",
        "\n",
        "# Calcula o valor mínimo e máximo da coluna IDHM\n",
        "minimo = cidades_brasileiras['IDHM'].min()\n",
        "maximo = cidades_brasileiras['IDHM'].max()\n",
        "\n",
        "# Função para padronizar o valor do IDHM entre 0 e 1\n",
        "def padronizar_idh(valorAtual, minimo, maximo):\n",
        "    return (valorAtual - minimo) / (maximo - minimo)\n",
        "\n",
        "# Aplica a função de padronização aos valores da coluna IDHM e armazena o resultado em uma nova coluna \"IDHM_Padronizado\"\n",
        "cidades_brasileiras['IDHM_Padronizado'] = cidades_brasileiras['IDHM'].apply(lambda x: padronizar_idh(x, minimo, maximo))\n",
        "\n",
        "# Definição das classes\n",
        "classes = {'baixo': 0,'médio': 1,'alto': 2}\n",
        "\n",
        "# Limites para classificação das classes\n",
        "limite_baixo = 0.315\n",
        "limite_medio = 0.819\n",
        "\n",
        "# Criação das variáveis de entrada (X) e saída (y)\n",
        "X = cidades_brasileiras[['GDP_CAPITA', 'IDHM_Educacao', 'COMP_Q', 'COMP_O', 'COMP_E', 'IDHM_Longevidade']].values\n",
        "y = []\n",
        "\n",
        "# Atribuição das classes com base nos limites estabelecidos\n",
        "for i in cidades_brasileiras['IDHM_Padronizado']:\n",
        "    if i < limite_baixo:\n",
        "        y.append(classes['baixo'])\n",
        "    elif i > limite_medio:\n",
        "        y.append(classes['alto'])\n",
        "    else:\n",
        "        y.append(classes['médio'])\n",
        "y = np.array(y)\n",
        "\n",
        "# Dividir o conjunto de dados em treino e teste, 30% foi utilizado para teste\n",
        "X_train, X_test, y_train, y_test = train_test_split(X, y, test_size=0.3, random_state=97)\n",
        "\n",
        "# Treinar o modelo KNN de classificação\n",
        "modeloKNN = KNeighborsClassifier()\n",
        "modeloKNN.fit(X_train, y_train)\n",
        "\n",
        "# Testar o modelo\n",
        "y_pred = modeloKNN.predict(X_test)\n",
        "acc = accuracy_score(y_test, y_pred)\n",
        "print('Acurácia: {:.2f}% '.format(acc*100))"
      ]
    },
    {
      "attachments": {},
      "cell_type": "markdown",
      "metadata": {
        "id": "hAY34TlgXASo"
      },
      "source": [
        "#Algoritmo Naive Bayes"
      ]
    },
    {
      "cell_type": "code",
      "execution_count": 5,
      "metadata": {
        "colab": {
          "base_uri": "https://localhost:8080/"
        },
        "id": "-_mwqN0wXFxu",
        "outputId": "ea55be98-5709-43cc-db4a-2f11064f23ec"
      },
      "outputs": [
        {
          "name": "stdout",
          "output_type": "stream",
          "text": [
            "Acurácia: 67.21% \n"
          ]
        }
      ],
      "source": [
        "\n",
        "import numpy as np\n",
        "from sklearn.naive_bayes import GaussianNB\n",
        "from sklearn.metrics import accuracy_score, confusion_matrix\n",
        "from sklearn.model_selection import train_test_split\n",
        "\n",
        "cidades_brasileiras.drop(index=cidades_brasileiras[cidades_brasileiras['IDHM'] ==0 ].index,inplace=True)\n",
        "minimo=cidades_brasileiras['IDHM'].min()\n",
        "maximo=cidades_brasileiras['IDHM'].max()\n",
        "maximo,minimo\n",
        "\n",
        "#o menor idh eh 0.418 e o maior eh 0.862\n",
        "def padronizar_idh (valorAtual, minimo, maximo):\n",
        "  return (valorAtual - minimo) / (maximo - minimo)\n",
        "\n",
        "funcao_de_padronizar=cidades_brasileiras['IDHM_Padronizado']=cidades_brasileiras['IDHM'].apply(lambda x: padronizar_idh(x, minimo, maximo))\n",
        "\n",
        "#define as classes de acordo com os limites\n",
        "classes = {'baixo': 0,'médio': 1,'alto': 2}\n",
        "\n",
        "# Definir os limites para as classes\n",
        "limite_baixo = 0.315\n",
        "limite_medio = 0.819\n",
        "\n",
        "# separa as classes de acordo com os limites\n",
        "X = cidades_brasileiras[['GDP_CAPITA','IDHM_Educacao','COMP_Q','COMP_O','COMP_E','IDHM_Longevidade']].values #comp e, comp o, idh longevidade\n",
        "y = []\n",
        "for i in cidades_brasileiras['IDHM_Padronizado']:\n",
        "    if i < limite_baixo:\n",
        "        y.append(classes['baixo'])\n",
        "    elif i > limite_medio:\n",
        "        y.append(classes['alto'])\n",
        "    else:\n",
        "        y.append(classes['médio'])\n",
        "y = np.array(y)\n",
        "\n",
        "# Foi utilizado 65% para teste\n",
        "X_train, X_test, y_train, y_test = train_test_split(X, y, test_size=0.65,random_state=40)\n",
        "\n",
        "# Treina o modelo Naive Bayes\n",
        "modeloNB = GaussianNB()\n",
        "modeloNB.fit(X_train, y_train)\n",
        "\n",
        "# Testa o modelo e calcula a acurácia\n",
        "y_pred = modeloNB.predict(X_test)\n",
        "acc = accuracy_score(y_test, y_pred)\n",
        "print('Acurácia: {:.2f}% '.format(acc*100))"
      ]
    },
    {
      "attachments": {},
      "cell_type": "markdown",
      "metadata": {
        "id": "SlqlCtKDYMeJ"
      },
      "source": [
        "#Comite 1"
      ]
    },
    {
      "cell_type": "code",
      "execution_count": 8,
      "metadata": {
        "colab": {
          "base_uri": "https://localhost:8080/"
        },
        "id": "bH14HjxwYPz3",
        "outputId": "5fd25b4f-c7f3-42df-af58-63090819363c"
      },
      "outputs": [
        {
          "name": "stdout",
          "output_type": "stream",
          "text": [
            "\n",
            "\n",
            "O comitê não chegou a uma conclusão.\n"
          ]
        }
      ],
      "source": [
        "# Comite region\n",
        "\n",
        "#'baixo': 0,\n",
        "#'médio': 1,\n",
        "#'alto': 2\n",
        "\n",
        "# para verificar a decisao dos modelos e colocar print no retorno do predict\n",
        "\n",
        "\n",
        "# ta aqui pego os dados das colunas que o cara vai informa porem nao lembro os nomes ai vai isso msm\n",
        "# solicitar os parâmetros diretamente ao usuário\n",
        "gdp_capita = float(input(\"Digite o PIB per capita da cidade: \"))\n",
        "idhm_educacao = float(input(\"Digite o IDH de Educação da cidade: \"))\n",
        "comp_q = float(input(\"Digite o número de companhias de saúde e serviços sociais (COMP Q) da cidade: \"))\n",
        "comp_o = float(input(\"Digite o número de instituições de segurança (COMP O) da cidade: \"))\n",
        "comp_e = float(input(\"Digite o número de instituições de saneamento (COMP E) da cidade: \"))\n",
        "idhm_longevidade = float(input(\"Digite o índice Longevidade da cidade: \"))\n",
        "\n",
        "# aqui os parametros viram uma lista pq os mod so aceitam lista msm enfim essa parte ate que e simples\n",
        "parametros_cidade = [gdp_capita, idhm_educacao, comp_q, comp_o, comp_e, idhm_longevidade]\n",
        "\n",
        "\n",
        "baixo = 0\n",
        "medio = 0\n",
        "alto = 0\n",
        "\n",
        "# aplicando modelo de arvore\n",
        "prev_modelo_arvore = modeloARV.predict([parametros_cidade])\n",
        "if prev_modelo_arvore == 0:\n",
        "  baixo = 1\n",
        "elif prev_modelo_arvore == 1:\n",
        "  medio = 1\n",
        "else:\n",
        "  alto = 2\n",
        "\n",
        "# aplicando modelo KNN\n",
        "prev_modelo_KNN = modeloKNN.predict([parametros_cidade])\n",
        "if prev_modelo_KNN == 0:\n",
        "  baixo = baixo + 1\n",
        "elif prev_modelo_KNN == 1:\n",
        "  medio = medio + 1\n",
        "else:\n",
        "  alto = alto + 1\n",
        "\n",
        "# aplicando modelo Naive Bayes\n",
        "prev_modelo_Naive_Bayes = modeloNB.predict([parametros_cidade])\n",
        "if prev_modelo_Naive_Bayes == 0:\n",
        "  baixo = baixo + 1\n",
        "elif prev_modelo_Naive_Bayes == 1:\n",
        "  medio = medio + 1\n",
        "else:\n",
        "  alto = alto + 1\n",
        "\n",
        "  print()\n",
        "  print()\n",
        "\n",
        "# decisão do comitê\n",
        "if baixo >= 3: # aqui e so um exemplo de uso para as cidades por exemplo falar se alto medio ou ruim\n",
        "  print(\"O comitê acredita que a cidade é ruim.\")\n",
        "elif medio >= 3:\n",
        "  print(\"O comitê acredita que a cidade é mediana.\")\n",
        "elif alto >= 3:\n",
        "  print(\"O comitê acredita que a cidade é boa.\")\n",
        "else:\n",
        "  print(\"O comitê não chegou a uma conclusão.\")\n"
      ]
    },
    {
      "attachments": {},
      "cell_type": "markdown",
      "metadata": {
        "id": "hk5eyy_d4NSp"
      },
      "source": [
        "#Comite 2"
      ]
    },
    {
      "cell_type": "code",
      "execution_count": 7,
      "metadata": {
        "colab": {
          "base_uri": "https://localhost:8080/"
        },
        "id": "cEkjY2gYC28k",
        "outputId": "6142f42f-df70-4c8a-c363-6a6c5b0bea9b"
      },
      "outputs": [
        {
          "name": "stdout",
          "output_type": "stream",
          "text": [
            "      GDP_CAPITA  IDHM_Educacao  COMP_Q  COMP_O  COMP_E  IDHM_Longevidade\n",
            "4997     57071.0          0.725   22248     153     657             0.855\n",
            "arvore  2\n",
            "Knn  2\n",
            "NB  2\n",
            "O comitê acredita que a cidade tem um IDHM ALTO, sendo considerada uma cidade boa.\n",
            "O comitê é unânime na opinião.\n"
          ]
        },
        {
          "name": "stderr",
          "output_type": "stream",
          "text": [
            "C:\\Users\\wanda\\AppData\\Local\\Temp\\ipykernel_8992\\616463191.py:25: DeprecationWarning: Conversion of an array with ndim > 0 to a scalar is deprecated, and will error in future. Ensure you extract a single element from your array before performing this operation. (Deprecated NumPy 1.25.)\n",
            "  prev_modelo_arvore = int(modeloARV.predict([cidadeSelecionada.values.tolist()[0]]))\n",
            "C:\\Users\\wanda\\AppData\\Local\\Temp\\ipykernel_8992\\616463191.py:36: DeprecationWarning: Conversion of an array with ndim > 0 to a scalar is deprecated, and will error in future. Ensure you extract a single element from your array before performing this operation. (Deprecated NumPy 1.25.)\n",
            "  prev_modelo_KNN = int(modeloKNN.predict([cidadeSelecionada.values.tolist()[0]]))\n",
            "C:\\Users\\wanda\\AppData\\Local\\Temp\\ipykernel_8992\\616463191.py:46: DeprecationWarning: Conversion of an array with ndim > 0 to a scalar is deprecated, and will error in future. Ensure you extract a single element from your array before performing this operation. (Deprecated NumPy 1.25.)\n",
            "  prev_modelo_Naive_Bayes = int(modeloNB.predict([cidadeSelecionada.values.tolist()[0]]))\n"
          ]
        }
      ],
      "source": [
        "#teste 3 comite\n",
        "#'baixo': 0,\n",
        "#'médio': 1,\n",
        "#'alto': 2\n",
        "\n",
        "baixo = 0\n",
        "medio = 0\n",
        "alto = 0\n",
        "\n",
        "# solicita o nome da cidade\n",
        "nome_cidade = str(input(\"Digite o nome da cidade: \"))\n",
        "\n",
        "# Filtrar o DataFrame para obter as informações da cidade especificada pelo usuário\n",
        "cidade_selecionada = cidades_brasileiras.loc[cidades_brasileiras['CITY'].str.upper() == nome_cidade.upper()]\n",
        "\n",
        "if cidade_selecionada.empty:\n",
        "    print(\"Cidade não encontrada.\")\n",
        "else:\n",
        "    # Atribuir os valores das colunas da cidade selecionada à variável 'cidadeSelecionada'\n",
        "    cidadeSelecionada = cidade_selecionada[['GDP_CAPITA', 'IDHM_Educacao', 'COMP_Q', 'COMP_O', 'COMP_E', 'IDHM_Longevidade']]\n",
        "\n",
        "    print(cidadeSelecionada) # TESTE\n",
        "\n",
        "    # Aplicar modelo de árvore\n",
        "    prev_modelo_arvore = int(modeloARV.predict([cidadeSelecionada.values.tolist()[0]]))\n",
        "    print(\"arvore \",prev_modelo_arvore)\n",
        "    if prev_modelo_arvore == 0:\n",
        "        baixo = 1\n",
        "    elif prev_modelo_arvore == 1:\n",
        "        medio = 1\n",
        "    else:\n",
        "        alto = 1\n",
        "\n",
        "\n",
        "    # Aplicar modelo KNN\n",
        "    prev_modelo_KNN = int(modeloKNN.predict([cidadeSelecionada.values.tolist()[0]]))\n",
        "    print(\"Knn \",prev_modelo_KNN)\n",
        "    if prev_modelo_KNN == 0:\n",
        "        baixo = baixo + 1\n",
        "    elif prev_modelo_KNN == 1:\n",
        "        medio = medio + 1\n",
        "    else:\n",
        "        alto = alto + 1\n",
        "\n",
        "    # Aplicar modelo Naive Bayes\n",
        "    prev_modelo_Naive_Bayes = int(modeloNB.predict([cidadeSelecionada.values.tolist()[0]]))\n",
        "    print(\"NB \",prev_modelo_Naive_Bayes)\n",
        "    if prev_modelo_Naive_Bayes == 0:\n",
        "        baixo = baixo + 1\n",
        "    elif prev_modelo_Naive_Bayes == 1:\n",
        "        medio = medio + 1\n",
        "    else:\n",
        "        alto = alto + 1\n",
        "\n",
        "    # Decisão do comitê\n",
        "    #if baixo >= 3 or baixo == 2:\n",
        "     #   print(\"O comitê acredita que a cidade tem um IDHM BAIXO.\")\n",
        "    #elif medio >= 3 or medio == 2:\n",
        "     #   print(\"O comitê acredita que a cidade tem um IDHM MÉDIO.\")\n",
        "    #elif alto >= 3 or alto == 3:\n",
        "     #   print(\"O comitê acredita que a cidade tem um IDHM ALTO.\")\n",
        "    #@else:\n",
        "      #  print(\"O comitê não chegou a uma conclusão.\")\n",
        "\n",
        "      # Decisão do comitê\n",
        "    if alto >= 2:\n",
        "        print(\"O comitê acredita que a cidade tem um IDHM ALTO, sendo considerada uma cidade boa.\")\n",
        "    elif medio >= 2:\n",
        "        print(\"O comitê acredita que a cidade tem um IDHM MÉDIO, sendo considerada uma cidade mediana.\")\n",
        "    else:\n",
        "        print(\"O comitê acredita que a cidade tem um IDHM BAIXO, sendo considerada uma cidade ruim.\")\n",
        "\n",
        "    if alto == 3 or medio == 3 or baixo == 3:\n",
        "      print(\"O comitê é unânime na opinião.\")\n",
        "    elif alto == 2 or baixo == 2 or medio == 2:\n",
        "      print(\"O comitê não é unânime na opinião, mas acredita em uma opção.\")\n",
        "    else:\n",
        "      print(\"O comitê não é unânime na opinião.\")\n",
        "\n"
      ]
    }
  ],
  "metadata": {
    "colab": {
      "provenance": []
    },
    "kernelspec": {
      "display_name": "Python 3",
      "name": "python3"
    },
    "language_info": {
      "codemirror_mode": {
        "name": "ipython",
        "version": 3
      },
      "file_extension": ".py",
      "mimetype": "text/x-python",
      "name": "python",
      "nbconvert_exporter": "python",
      "pygments_lexer": "ipython3",
      "version": "3.11.4"
    }
  },
  "nbformat": 4,
  "nbformat_minor": 0
}
