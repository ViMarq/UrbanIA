{
  "cells": [
    {
      "cell_type": "code",
      "execution_count": 5,
      "metadata": {
        "id": "SLVylO7z7vP8"
      },
      "outputs": [],
      "source": [
        "import numpy as np\n",
        "import pandas as pd\n",
        "from sklearn.naive_bayes import GaussianNB\n",
        "from sklearn.metrics import accuracy_score, confusion_matrix\n",
        "from sklearn.model_selection import train_test_split\n",
        "#from google.colab import files"
      ]
    },
    {
      "cell_type": "code",
      "execution_count": 6,
      "metadata": {
        "colab": {
          "base_uri": "https://localhost:8080/",
          "height": 73
        },
        "id": "45uYSpTZItAs",
        "outputId": "e1eba8cd-86ff-4305-86f7-c98da76fa7cb"
      },
      "outputs": [],
      "source": [
        "#arquivo=files.upload()\n",
        "cidade=pd.read_csv('brasilrev2022.csv')"
      ]
    },
    {
      "cell_type": "code",
      "execution_count": 7,
      "metadata": {},
      "outputs": [
        {
          "data": {
            "text/plain": [
              "['CITY',\n",
              " 'STATE',\n",
              " 'CAPITAL',\n",
              " 'IBGE_RES_POP',\n",
              " 'IBGE_RES_POP_BRAS',\n",
              " 'IBGE_RES_POP_ESTR',\n",
              " 'IBGE_DU',\n",
              " 'IBGE_DU_URBAN',\n",
              " 'IBGE_DU_RURAL',\n",
              " 'IBGE_POP',\n",
              " 'IBGE_1',\n",
              " 'IBGE_1-4',\n",
              " 'IBGE_5-9',\n",
              " 'IBGE_10-14',\n",
              " 'IBGE_15-59',\n",
              " 'IBGE_60+',\n",
              " 'IBGE_PLANTED_AREA',\n",
              " 'IBGE_CROP_PRODUCTION_$',\n",
              " 'IDHM Ranking 2010',\n",
              " 'IDHM',\n",
              " 'IDHM_Renda',\n",
              " 'IDHM_Longevidade',\n",
              " 'IDHM_Educacao',\n",
              " 'LONG',\n",
              " 'LAT',\n",
              " 'ALT',\n",
              " 'PAY_TV',\n",
              " 'FIXED_PHONES',\n",
              " 'AREA',\n",
              " 'REGIAO_TUR',\n",
              " 'CATEGORIA_TUR',\n",
              " 'ESTIMATED_POP',\n",
              " 'RURAL_URBAN',\n",
              " 'GVA_AGROPEC',\n",
              " 'GVA_INDUSTRY',\n",
              " 'GVA_SERVICES',\n",
              " 'GVA_PUBLIC',\n",
              " 'GVA_TOTAL',\n",
              " 'TAXES',\n",
              " 'GDP',\n",
              " 'POP_GDP',\n",
              " 'GDP_CAPITA',\n",
              " 'GVA_MAIN',\n",
              " 'MUN_EXPENDIT',\n",
              " 'COMP_TOT',\n",
              " 'COMP_A',\n",
              " 'COMP_B',\n",
              " 'COMP_C',\n",
              " 'COMP_D',\n",
              " 'COMP_E',\n",
              " 'COMP_F',\n",
              " 'COMP_G',\n",
              " 'COMP_H',\n",
              " 'COMP_I',\n",
              " 'COMP_J',\n",
              " 'COMP_K',\n",
              " 'COMP_L',\n",
              " 'COMP_M',\n",
              " 'COMP_N',\n",
              " 'COMP_O',\n",
              " 'COMP_P',\n",
              " 'COMP_Q',\n",
              " 'COMP_R',\n",
              " 'COMP_S',\n",
              " 'COMP_T',\n",
              " 'COMP_U',\n",
              " 'HOTELS',\n",
              " 'BEDS',\n",
              " 'Pr_Agencies',\n",
              " 'Pu_Agencies',\n",
              " 'Pr_Bank',\n",
              " 'Pu_Bank',\n",
              " 'Pr_Assets',\n",
              " 'Pu_Assets',\n",
              " 'Cars',\n",
              " 'Motorcycles',\n",
              " 'Wheeled_tractor',\n",
              " 'UBER',\n",
              " 'MAC',\n",
              " 'WAL-MART',\n",
              " 'POST_OFFICES']"
            ]
          },
          "execution_count": 7,
          "metadata": {},
          "output_type": "execute_result"
        }
      ],
      "source": [
        "cidade.columns.tolist()"
      ]
    },
    {
      "cell_type": "code",
      "execution_count": null,
      "metadata": {
        "colab": {
          "base_uri": "https://localhost:8080/"
        },
        "id": "TzGA5u7tI0Zc",
        "outputId": "c3afcde5-3074-4943-f815-08df25f244f9"
      },
      "outputs": [],
      "source": [
        "cidade.drop(index=cidade[cidade['IDHM'] ==0 ].index,inplace=True)\n",
        "\n",
        "minimo=cidade['IDHM'].min()\n",
        "maximo=cidade['IDHM'].max()\n",
        "maximo,minimo\n",
        "\n",
        "\n",
        "#o menor idh eh 0.418 e o maior eh 0.862\n",
        "\n",
        "def padronizar_idh (valorAtual, minimo, maximo):\n",
        "  return (valorAtual - minimo) / (maximo - minimo)\n",
        "\n",
        "funcao_de_padronizar=cidade['IDHM_Padronizado']=cidade['IDHM'].apply(lambda x: padronizar_idh(x, minimo, maximo))\n",
        "\n",
        "#define as classes de acordo com os limites\n",
        "classes = {\n",
        "    'baixo': 0,\n",
        "    'médio': 1,\n",
        "    'alto': 2\n",
        "}\n",
        "\n",
        "# Definir os limites para as classes\n",
        "limite_baixo = 0.315\n",
        "limite_medio = 0.819\n",
        "\n",
        "# separa as classes de acordo com os limites\n",
        "X = cidade[['GDP_CAPITA','IDHM_Educacao','COMP_Q','COMP_O','COMP_E','IDHM_Longevidade']].values #comp e, comp o, idh longevidade\n",
        "y = []\n",
        "for i in cidade['IDHM_Padronizado']:\n",
        "    if i < limite_baixo:\n",
        "        y.append(classes['baixo'])\n",
        "    elif i > limite_medio:\n",
        "        y.append(classes['alto'])\n",
        "    else:\n",
        "        y.append(classes['médio'])\n",
        "y = np.array(y)\n",
        "\n",
        "maiorValor=max(valoresAcuracia)\n",
        "menorValor=min(valoresAcuracia)\n",
        "print(\"o maior valor eh {:.3f} e o menor eh {:.3f}\".format(maiorValor,menorValor))\n",
        "#chama a função\n",
        "\n",
        "\n",
        "\n",
        "\n",
        "print(\"a acc agora ficou \",acc)\n",
        "\n",
        "# Matriz de confusão\n",
        "conf_matrix = confusion_matrix(y_test, y_pred)\n",
        "print(conf_matrix)"
      ]
    },
    {
      "cell_type": "code",
      "execution_count": 4,
      "metadata": {
        "colab": {
          "base_uri": "https://localhost:8080/"
        },
        "id": "NI_fPklMaZdR",
        "outputId": "2c637723-9ade-4866-e4bb-8cdfe559d494"
      },
      "outputs": [
        {
          "name": "stdout",
          "output_type": "stream",
          "text": [
            "Acurácia: 0.6720994475138121\n"
          ]
        }
      ],
      "source": [
        "#0.65 de test size ta bom da 40\n",
        "\n",
        "X_train, X_test, y_train, y_test = train_test_split(X, y, test_size=0.65,random_state=40\n",
        ")\n",
        "\n",
        "# Treina o modelo Naive Bayes\n",
        "modelo = GaussianNB()\n",
        "modelo.fit(X_train, y_train)\n",
        "\n",
        "# Testa o modelo e calcula a acurácia\n",
        "y_pred = modelo.predict(X_test)\n",
        "acc = accuracy_score(y_test, y_pred)\n",
        "print('Acurácia:', acc)\n",
        "\n"
      ]
    }
  ],
  "metadata": {
    "colab": {
      "provenance": []
    },
    "kernelspec": {
      "display_name": "Python 3",
      "name": "python3"
    },
    "language_info": {
      "codemirror_mode": {
        "name": "ipython",
        "version": 3
      },
      "file_extension": ".py",
      "mimetype": "text/x-python",
      "name": "python",
      "nbconvert_exporter": "python",
      "pygments_lexer": "ipython3",
      "version": "3.11.4"
    }
  },
  "nbformat": 4,
  "nbformat_minor": 0
}
